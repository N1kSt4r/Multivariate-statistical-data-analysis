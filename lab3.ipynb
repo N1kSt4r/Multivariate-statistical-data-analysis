{
 "cells": [
  {
   "cell_type": "code",
   "execution_count": 1,
   "metadata": {
    "pycharm": {
     "is_executing": false,
     "name": "#%%\n"
    }
   },
   "outputs": [],
   "source": [
    "import warnings\n",
    "warnings.filterwarnings(\"ignore\")\n",
    "\n",
    "import pandas as pd\n",
    "import numpy as np\n",
    "import matplotlib.pyplot as plt\n",
    "\n",
    "from factor_analyzer.factor_analyzer import calculate_bartlett_sphericity, calculate_kmo\n",
    "from mpl_toolkits.mplot3d import Axes3D"
   ]
  },
  {
   "cell_type": "code",
   "execution_count": 2,
   "metadata": {
    "pycharm": {
     "is_executing": false,
     "name": "#%%\n"
    }
   },
   "outputs": [
    {
     "data": {
      "text/html": [
       "<div>\n",
       "<style scoped>\n",
       "    .dataframe tbody tr th:only-of-type {\n",
       "        vertical-align: middle;\n",
       "    }\n",
       "\n",
       "    .dataframe tbody tr th {\n",
       "        vertical-align: top;\n",
       "    }\n",
       "\n",
       "    .dataframe thead th {\n",
       "        text-align: right;\n",
       "    }\n",
       "</style>\n",
       "<table border=\"1\" class=\"dataframe\">\n",
       "  <thead>\n",
       "    <tr style=\"text-align: right;\">\n",
       "      <th></th>\n",
       "      <th>0</th>\n",
       "      <th>1</th>\n",
       "      <th>2</th>\n",
       "      <th>3</th>\n",
       "      <th>4</th>\n",
       "    </tr>\n",
       "  </thead>\n",
       "  <tbody>\n",
       "    <tr>\n",
       "      <td>k1</td>\n",
       "      <td>0.942380</td>\n",
       "      <td>1.980494</td>\n",
       "      <td>0.374160</td>\n",
       "      <td>7.859079</td>\n",
       "      <td>1.779376</td>\n",
       "    </tr>\n",
       "    <tr>\n",
       "      <td>k2</td>\n",
       "      <td>0.060563</td>\n",
       "      <td>0.274382</td>\n",
       "      <td>0.001494</td>\n",
       "      <td>0.831978</td>\n",
       "      <td>0.005596</td>\n",
       "    </tr>\n",
       "    <tr>\n",
       "      <td>k3</td>\n",
       "      <td>0.678302</td>\n",
       "      <td>0.916775</td>\n",
       "      <td>0.085138</td>\n",
       "      <td>2.449864</td>\n",
       "      <td>0.883293</td>\n",
       "    </tr>\n",
       "    <tr>\n",
       "      <td>k4</td>\n",
       "      <td>-0.161531</td>\n",
       "      <td>0.624425</td>\n",
       "      <td>-1.504990</td>\n",
       "      <td>0.875862</td>\n",
       "      <td>0.527853</td>\n",
       "    </tr>\n",
       "    <tr>\n",
       "      <td>k5</td>\n",
       "      <td>0.202055</td>\n",
       "      <td>0.089377</td>\n",
       "      <td>0.235739</td>\n",
       "      <td>0.059439</td>\n",
       "      <td>0.135491</td>\n",
       "    </tr>\n",
       "    <tr>\n",
       "      <td>k6</td>\n",
       "      <td>0.165019</td>\n",
       "      <td>0.220648</td>\n",
       "      <td>0.508929</td>\n",
       "      <td>0.030030</td>\n",
       "      <td>0.886686</td>\n",
       "    </tr>\n",
       "    <tr>\n",
       "      <td>k7</td>\n",
       "      <td>0.399033</td>\n",
       "      <td>0.000000</td>\n",
       "      <td>0.888889</td>\n",
       "      <td>0.011111</td>\n",
       "      <td>0.489796</td>\n",
       "    </tr>\n",
       "    <tr>\n",
       "      <td>k8</td>\n",
       "      <td>0.799019</td>\n",
       "      <td>0.933519</td>\n",
       "      <td>0.779049</td>\n",
       "      <td>0.942010</td>\n",
       "      <td>0.887341</td>\n",
       "    </tr>\n",
       "    <tr>\n",
       "      <td>k9</td>\n",
       "      <td>5.426569</td>\n",
       "      <td>14.041958</td>\n",
       "      <td>5.017007</td>\n",
       "      <td>16.244444</td>\n",
       "      <td>10.558673</td>\n",
       "    </tr>\n",
       "    <tr>\n",
       "      <td>k10</td>\n",
       "      <td>0.209235</td>\n",
       "      <td>0.215083</td>\n",
       "      <td>0.096737</td>\n",
       "      <td>0.876663</td>\n",
       "      <td>0.313389</td>\n",
       "    </tr>\n",
       "    <tr>\n",
       "      <td>k11</td>\n",
       "      <td>1.115922</td>\n",
       "      <td>1.259382</td>\n",
       "      <td>0.774586</td>\n",
       "      <td>1.223284</td>\n",
       "      <td>0.874381</td>\n",
       "    </tr>\n",
       "    <tr>\n",
       "      <td>k12</td>\n",
       "      <td>1.082798</td>\n",
       "      <td>1.123828</td>\n",
       "      <td>1.185374</td>\n",
       "      <td>1.309449</td>\n",
       "      <td>0.994832</td>\n",
       "    </tr>\n",
       "    <tr>\n",
       "      <td>k13</td>\n",
       "      <td>0.655937</td>\n",
       "      <td>0.705951</td>\n",
       "      <td>0.123415</td>\n",
       "      <td>2.804607</td>\n",
       "      <td>0.473041</td>\n",
       "    </tr>\n",
       "    <tr>\n",
       "      <td>k14</td>\n",
       "      <td>4.454819</td>\n",
       "      <td>10.618881</td>\n",
       "      <td>0.794785</td>\n",
       "      <td>48.363889</td>\n",
       "      <td>5.628827</td>\n",
       "    </tr>\n",
       "    <tr>\n",
       "      <td>k15</td>\n",
       "      <td>3.975687</td>\n",
       "      <td>12.295547</td>\n",
       "      <td>6.258929</td>\n",
       "      <td>26.142643</td>\n",
       "      <td>3.125354</td>\n",
       "    </tr>\n",
       "    <tr>\n",
       "      <td>k16</td>\n",
       "      <td>0.892446</td>\n",
       "      <td>1.157895</td>\n",
       "      <td>7.875000</td>\n",
       "      <td>0.540541</td>\n",
       "      <td>0.555241</td>\n",
       "    </tr>\n",
       "    <tr>\n",
       "      <td>k17</td>\n",
       "      <td>1007.536232</td>\n",
       "      <td>357.294118</td>\n",
       "      <td>36.894737</td>\n",
       "      <td>33.676983</td>\n",
       "      <td>19.103896</td>\n",
       "    </tr>\n",
       "    <tr>\n",
       "      <td>k18</td>\n",
       "      <td>0.076738</td>\n",
       "      <td>0.116068</td>\n",
       "      <td>-0.584879</td>\n",
       "      <td>0.171731</td>\n",
       "      <td>0.064809</td>\n",
       "    </tr>\n",
       "    <tr>\n",
       "      <td>k19</td>\n",
       "      <td>0.055049</td>\n",
       "      <td>0.059740</td>\n",
       "      <td>0.010563</td>\n",
       "      <td>0.496295</td>\n",
       "      <td>0.025726</td>\n",
       "    </tr>\n",
       "    <tr>\n",
       "      <td>k20</td>\n",
       "      <td>0.034904</td>\n",
       "      <td>0.025647</td>\n",
       "      <td>0.000000</td>\n",
       "      <td>0.312415</td>\n",
       "      <td>0.011839</td>\n",
       "    </tr>\n",
       "  </tbody>\n",
       "</table>\n",
       "</div>"
      ],
      "text/plain": [
       "               0           1          2          3          4\n",
       "k1      0.942380    1.980494   0.374160   7.859079   1.779376\n",
       "k2      0.060563    0.274382   0.001494   0.831978   0.005596\n",
       "k3      0.678302    0.916775   0.085138   2.449864   0.883293\n",
       "k4     -0.161531    0.624425  -1.504990   0.875862   0.527853\n",
       "k5      0.202055    0.089377   0.235739   0.059439   0.135491\n",
       "k6      0.165019    0.220648   0.508929   0.030030   0.886686\n",
       "k7      0.399033    0.000000   0.888889   0.011111   0.489796\n",
       "k8      0.799019    0.933519   0.779049   0.942010   0.887341\n",
       "k9      5.426569   14.041958   5.017007  16.244444  10.558673\n",
       "k10     0.209235    0.215083   0.096737   0.876663   0.313389\n",
       "k11     1.115922    1.259382   0.774586   1.223284   0.874381\n",
       "k12     1.082798    1.123828   1.185374   1.309449   0.994832\n",
       "k13     0.655937    0.705951   0.123415   2.804607   0.473041\n",
       "k14     4.454819   10.618881   0.794785  48.363889   5.628827\n",
       "k15     3.975687   12.295547   6.258929  26.142643   3.125354\n",
       "k16     0.892446    1.157895   7.875000   0.540541   0.555241\n",
       "k17  1007.536232  357.294118  36.894737  33.676983  19.103896\n",
       "k18     0.076738    0.116068  -0.584879   0.171731   0.064809\n",
       "k19     0.055049    0.059740   0.010563   0.496295   0.025726\n",
       "k20     0.034904    0.025647   0.000000   0.312415   0.011839"
      ]
     },
     "execution_count": 2,
     "metadata": {},
     "output_type": "execute_result"
    }
   ],
   "source": [
    "data = pd.read_csv('data.txt', sep='\\t')\n",
    "data.head().T"
   ]
  },
  {
   "cell_type": "markdown",
   "metadata": {},
   "source": [
    "### Research main descriptive statistics:"
   ]
  },
  {
   "cell_type": "code",
   "execution_count": 3,
   "metadata": {
    "pycharm": {
     "is_executing": false,
     "name": "#%%\n"
    }
   },
   "outputs": [
    {
     "data": {
      "text/html": [
       "<div>\n",
       "<style scoped>\n",
       "    .dataframe tbody tr th:only-of-type {\n",
       "        vertical-align: middle;\n",
       "    }\n",
       "\n",
       "    .dataframe tbody tr th {\n",
       "        vertical-align: top;\n",
       "    }\n",
       "\n",
       "    .dataframe thead th {\n",
       "        text-align: right;\n",
       "    }\n",
       "</style>\n",
       "<table border=\"1\" class=\"dataframe\">\n",
       "  <thead>\n",
       "    <tr style=\"text-align: right;\">\n",
       "      <th></th>\n",
       "      <th>amin</th>\n",
       "      <th>amax</th>\n",
       "      <th>mean</th>\n",
       "      <th>median</th>\n",
       "      <th>std</th>\n",
       "    </tr>\n",
       "  </thead>\n",
       "  <tbody>\n",
       "    <tr>\n",
       "      <td>k1</td>\n",
       "      <td>0.248322</td>\n",
       "      <td>10.293766</td>\n",
       "      <td>1.921478</td>\n",
       "      <td>1.470692</td>\n",
       "      <td>1.396230</td>\n",
       "    </tr>\n",
       "    <tr>\n",
       "      <td>k2</td>\n",
       "      <td>0.000000</td>\n",
       "      <td>3.243494</td>\n",
       "      <td>0.208770</td>\n",
       "      <td>0.054770</td>\n",
       "      <td>0.403334</td>\n",
       "    </tr>\n",
       "    <tr>\n",
       "      <td>k3</td>\n",
       "      <td>0.009827</td>\n",
       "      <td>5.986989</td>\n",
       "      <td>0.783700</td>\n",
       "      <td>0.535862</td>\n",
       "      <td>0.777255</td>\n",
       "    </tr>\n",
       "    <tr>\n",
       "      <td>k4</td>\n",
       "      <td>-3.529993</td>\n",
       "      <td>0.931436</td>\n",
       "      <td>0.050654</td>\n",
       "      <td>0.148021</td>\n",
       "      <td>0.568099</td>\n",
       "    </tr>\n",
       "    <tr>\n",
       "      <td>k5</td>\n",
       "      <td>0.018089</td>\n",
       "      <td>1.083702</td>\n",
       "      <td>0.344513</td>\n",
       "      <td>0.317965</td>\n",
       "      <td>0.194151</td>\n",
       "    </tr>\n",
       "    <tr>\n",
       "      <td>k6</td>\n",
       "      <td>0.000000</td>\n",
       "      <td>1.000000</td>\n",
       "      <td>0.237445</td>\n",
       "      <td>0.186528</td>\n",
       "      <td>0.209898</td>\n",
       "    </tr>\n",
       "    <tr>\n",
       "      <td>k7</td>\n",
       "      <td>0.000000</td>\n",
       "      <td>1.000000</td>\n",
       "      <td>0.174289</td>\n",
       "      <td>0.076124</td>\n",
       "      <td>0.222673</td>\n",
       "    </tr>\n",
       "    <tr>\n",
       "      <td>k8</td>\n",
       "      <td>0.053766</td>\n",
       "      <td>0.981911</td>\n",
       "      <td>0.657750</td>\n",
       "      <td>0.682670</td>\n",
       "      <td>0.191892</td>\n",
       "    </tr>\n",
       "    <tr>\n",
       "      <td>k9</td>\n",
       "      <td>0.059320</td>\n",
       "      <td>54.282963</td>\n",
       "      <td>6.600649</td>\n",
       "      <td>4.771666</td>\n",
       "      <td>6.275273</td>\n",
       "    </tr>\n",
       "    <tr>\n",
       "      <td>k10</td>\n",
       "      <td>0.040014</td>\n",
       "      <td>5.105631</td>\n",
       "      <td>0.808938</td>\n",
       "      <td>0.618753</td>\n",
       "      <td>0.693219</td>\n",
       "    </tr>\n",
       "    <tr>\n",
       "      <td>k11</td>\n",
       "      <td>0.098838</td>\n",
       "      <td>4.381205</td>\n",
       "      <td>1.310608</td>\n",
       "      <td>1.236210</td>\n",
       "      <td>0.379744</td>\n",
       "    </tr>\n",
       "    <tr>\n",
       "      <td>k12</td>\n",
       "      <td>0.230067</td>\n",
       "      <td>4.580604</td>\n",
       "      <td>1.330534</td>\n",
       "      <td>1.179270</td>\n",
       "      <td>0.488992</td>\n",
       "    </tr>\n",
       "    <tr>\n",
       "      <td>k13</td>\n",
       "      <td>0.033180</td>\n",
       "      <td>4.982852</td>\n",
       "      <td>1.205353</td>\n",
       "      <td>1.111321</td>\n",
       "      <td>0.693076</td>\n",
       "    </tr>\n",
       "    <tr>\n",
       "      <td>k14</td>\n",
       "      <td>0.220451</td>\n",
       "      <td>52.980964</td>\n",
       "      <td>9.796048</td>\n",
       "      <td>8.169934</td>\n",
       "      <td>7.135853</td>\n",
       "    </tr>\n",
       "    <tr>\n",
       "      <td>k15</td>\n",
       "      <td>0.347459</td>\n",
       "      <td>93.351464</td>\n",
       "      <td>13.043004</td>\n",
       "      <td>9.846369</td>\n",
       "      <td>10.908693</td>\n",
       "    </tr>\n",
       "    <tr>\n",
       "      <td>k16</td>\n",
       "      <td>0.000000</td>\n",
       "      <td>18.966667</td>\n",
       "      <td>2.045531</td>\n",
       "      <td>1.233379</td>\n",
       "      <td>2.387411</td>\n",
       "    </tr>\n",
       "    <tr>\n",
       "      <td>k17</td>\n",
       "      <td>0.447730</td>\n",
       "      <td>13063.000000</td>\n",
       "      <td>139.471755</td>\n",
       "      <td>20.099094</td>\n",
       "      <td>807.323926</td>\n",
       "    </tr>\n",
       "    <tr>\n",
       "      <td>k18</td>\n",
       "      <td>-0.584879</td>\n",
       "      <td>0.529860</td>\n",
       "      <td>0.058133</td>\n",
       "      <td>0.059466</td>\n",
       "      <td>0.093230</td>\n",
       "    </tr>\n",
       "    <tr>\n",
       "      <td>k19</td>\n",
       "      <td>-0.200097</td>\n",
       "      <td>0.635036</td>\n",
       "      <td>0.079298</td>\n",
       "      <td>0.056122</td>\n",
       "      <td>0.090595</td>\n",
       "    </tr>\n",
       "    <tr>\n",
       "      <td>k20</td>\n",
       "      <td>-0.806328</td>\n",
       "      <td>0.836596</td>\n",
       "      <td>0.068387</td>\n",
       "      <td>0.044363</td>\n",
       "      <td>0.118684</td>\n",
       "    </tr>\n",
       "  </tbody>\n",
       "</table>\n",
       "</div>"
      ],
      "text/plain": [
       "         amin          amax        mean     median         std\n",
       "k1   0.248322     10.293766    1.921478   1.470692    1.396230\n",
       "k2   0.000000      3.243494    0.208770   0.054770    0.403334\n",
       "k3   0.009827      5.986989    0.783700   0.535862    0.777255\n",
       "k4  -3.529993      0.931436    0.050654   0.148021    0.568099\n",
       "k5   0.018089      1.083702    0.344513   0.317965    0.194151\n",
       "k6   0.000000      1.000000    0.237445   0.186528    0.209898\n",
       "k7   0.000000      1.000000    0.174289   0.076124    0.222673\n",
       "k8   0.053766      0.981911    0.657750   0.682670    0.191892\n",
       "k9   0.059320     54.282963    6.600649   4.771666    6.275273\n",
       "k10  0.040014      5.105631    0.808938   0.618753    0.693219\n",
       "k11  0.098838      4.381205    1.310608   1.236210    0.379744\n",
       "k12  0.230067      4.580604    1.330534   1.179270    0.488992\n",
       "k13  0.033180      4.982852    1.205353   1.111321    0.693076\n",
       "k14  0.220451     52.980964    9.796048   8.169934    7.135853\n",
       "k15  0.347459     93.351464   13.043004   9.846369   10.908693\n",
       "k16  0.000000     18.966667    2.045531   1.233379    2.387411\n",
       "k17  0.447730  13063.000000  139.471755  20.099094  807.323926\n",
       "k18 -0.584879      0.529860    0.058133   0.059466    0.093230\n",
       "k19 -0.200097      0.635036    0.079298   0.056122    0.090595\n",
       "k20 -0.806328      0.836596    0.068387   0.044363    0.118684"
      ]
     },
     "execution_count": 3,
     "metadata": {},
     "output_type": "execute_result"
    }
   ],
   "source": [
    "data.aggregate([np.min, np.max, np.mean, np.median, np.std]).T"
   ]
  },
  {
   "cell_type": "markdown",
   "metadata": {
    "pycharm": {
     "is_executing": false,
     "name": "#%%\n"
    }
   },
   "source": [
    "### Graphical analysis:"
   ]
  },
  {
   "cell_type": "code",
   "execution_count": 4,
   "metadata": {},
   "outputs": [
    {
     "data": {
      "image/png": "[encoded data removed]",
      "text/plain": [
       "<Figure size 1800x1440 with 20 Axes>"
      ]
     },
     "metadata": {
      "needs_background": "light"
     },
     "output_type": "display_data"
    }
   ],
   "source": [
    "plt.figure(figsize=(25, 20))\n",
    "for index, feature in enumerate(data):\n",
    "    plt.subplot(5, 4, index + 1)\n",
    "    data[feature].plot.kde(title=feature)  # kernel density estimation\n",
    "    data[feature].plot.hist(density=True)\n",
    "\n",
    "plt.show()"
   ]
  },
  {
   "cell_type": "code",
   "execution_count": 5,
   "metadata": {
    "pycharm": {
     "is_executing": false,
     "name": "#%%\n"
    }
   },
   "outputs": [
    {
     "data": {
      "image/png": "[encoded data removed]",
      "text/plain": [
       "<Figure size 1152x576 with 1 Axes>"
      ]
     },
     "metadata": {
      "needs_background": "light"
     },
     "output_type": "display_data"
    }
   ],
   "source": [
    "data.plot.box(title='boxplot', figsize=(16, 8))\n",
    "plt.show()"
   ]
  },
  {
   "cell_type": "markdown",
   "metadata": {},
   "source": [
    "### Six sigma rule:"
   ]
  },
  {
   "cell_type": "code",
   "execution_count": 6,
   "metadata": {
    "pycharm": {
     "is_executing": false,
     "name": "#%%\n"
    }
   },
   "outputs": [
    {
     "name": "stdout",
     "output_type": "stream",
     "text": [
      "percentage of outliers of  k1: 00.000%\n",
      "percentage of outliers of  k2: 00.539%\n",
      "percentage of outliers of  k3: 00.116%\n",
      "percentage of outliers of  k4: 00.077%\n",
      "percentage of outliers of  k5: 00.000%\n",
      "percentage of outliers of  k6: 00.000%\n",
      "percentage of outliers of  k7: 00.000%\n",
      "percentage of outliers of  k8: 00.000%\n",
      "percentage of outliers of  k9: 00.193%\n",
      "percentage of outliers of k10: 00.039%\n",
      "percentage of outliers of k11: 00.154%\n",
      "percentage of outliers of k12: 00.193%\n",
      "percentage of outliers of k13: 00.000%\n",
      "percentage of outliers of k14: 00.039%\n",
      "percentage of outliers of k15: 00.270%\n",
      "percentage of outliers of k16: 00.424%\n",
      "percentage of outliers of k17: 00.771%\n",
      "percentage of outliers of k18: 00.231%\n",
      "percentage of outliers of k19: 00.039%\n",
      "percentage of outliers of k20: 00.193%\n"
     ]
    }
   ],
   "source": [
    "for k in data:\n",
    "    temp = (np.abs(data[k] - data[k].mean())) > 6 * data[k].std()\n",
    "    print('percentage of outliers of {:>3}: {:06.3f}%'.format(k, np.sum(temp) / len(temp) * 100))"
   ]
  },
  {
   "cell_type": "markdown",
   "metadata": {},
   "source": [
    "### Searching multiplier for 5-8% outliers (outliers is NaN), censorship and normalization data:"
   ]
  },
  {
   "cell_type": "code",
   "execution_count": 7,
   "metadata": {
    "pycharm": {
     "is_executing": false,
     "name": "#%%\n"
    }
   },
   "outputs": [
    {
     "name": "stdout",
     "output_type": "stream",
     "text": [
      "percentage of outliers of  k1 with multiplier 1.73: 06.551%\n",
      "percentage of outliers of  k2 with multiplier 1.51: 06.513%\n",
      "percentage of outliers of  k3 with multiplier 1.72: 06.590%\n",
      "percentage of outliers of  k4 with multiplier 1.51: 06.551%\n",
      "percentage of outliers of  k5 with multiplier 1.68: 06.551%\n",
      "percentage of outliers of  k6 with multiplier 1.81: 06.513%\n",
      "percentage of outliers of  k7 with multiplier 2.03: 06.513%\n",
      "percentage of outliers of  k8 with multiplier 1.69: 06.513%\n",
      "percentage of outliers of  k9 with multiplier 1.69: 06.513%\n",
      "percentage of outliers of k10 with multiplier 1.61: 06.551%\n",
      "percentage of outliers of k11 with multiplier 1.83: 06.590%\n",
      "percentage of outliers of k12 with multiplier 1.94: 06.474%\n",
      "percentage of outliers of k13 with multiplier 1.64: 06.513%\n",
      "percentage of outliers of k14 with multiplier 1.74: 06.435%\n",
      "percentage of outliers of k15 with multiplier 1.54: 06.590%\n",
      "percentage of outliers of k16 with multiplier 1.61: 06.435%\n",
      "percentage of outliers of k17 with multiplier 0.17: 06.513%\n",
      "percentage of outliers of k18 with multiplier 1.73: 06.551%\n",
      "percentage of outliers of k19 with multiplier 1.83: 06.435%\n",
      "percentage of outliers of k20 with multiplier 1.82: 06.474%\n"
     ]
    }
   ],
   "source": [
    "mask = np.ones(data.shape[0], dtype=bool)\n",
    "\n",
    "for k in data:\n",
    "    coef = data[k].max() / data[k].std()\n",
    "    temp = (np.abs(data[k] - data[k].mean())) > coef * data[k].std()\n",
    "    delta = coef / 2\n",
    "    count = 0\n",
    "    \n",
    "    while np.abs(np.sum(temp) / len(temp) - 0.065) > 1e-3 and count < 20:\n",
    "        coef += -delta if np.sum(temp) / len(temp) < 0.065 else delta\n",
    "        temp = (np.abs(data[k] - data[k].mean())) > coef * data[k].std()\n",
    "        delta, count = delta / 2, count + 1\n",
    "    \n",
    "    mask = np.logical_and(mask, np.abs(data[k] - data[k].mean()) < coef * data[k].std())\n",
    "    print('percentage of outliers of {:>3} with multiplier {:.2f}: {:06.3f}%'\n",
    "          .format(k, coef, np.sum(temp) / len(temp) * 100),)\n",
    "    \n",
    "data = data[mask]\n",
    "for k in data:\n",
    "    data[k] = (data[k] - data[k].min()) / (data[k].max() - data[k].min())  # normalization"
   ]
  },
  {
   "cell_type": "code",
   "execution_count": 8,
   "metadata": {},
   "outputs": [
    {
     "data": {
      "image/png": "[encoded data removed]",
      "text/plain": [
       "<Figure size 1152x576 with 1 Axes>"
      ]
     },
     "metadata": {
      "needs_background": "light"
     },
     "output_type": "display_data"
    }
   ],
   "source": [
    "data.plot.box(title='boxplot', figsize=(16, 8))\n",
    "plt.show()"
   ]
  },
  {
   "cell_type": "markdown",
   "metadata": {},
   "source": [
    "### Close conections components:"
   ]
  },
  {
   "cell_type": "code",
   "execution_count": 9,
   "metadata": {
    "pycharm": {
     "is_executing": false,
     "name": "#%%\n"
    }
   },
   "outputs": [
    {
     "name": "stdout",
     "output_type": "stream",
     "text": [
      "        k1     k2     k3     k4     k5     k6     k7     k8     k9    k10  \\\n",
      "k1   1.000  0.516  0.752  0.621 -0.460 -0.074 -0.186  0.451  0.412  0.071   \n",
      "k2   0.516  1.000  0.604  0.298 -0.254 -0.150 -0.261  0.251  0.238 -0.013   \n",
      "k3   0.752  0.604  1.000  0.412 -0.285 -0.077 -0.172  0.281  0.269  0.080   \n",
      "k4   0.621  0.298  0.412  1.000 -0.663 -0.036 -0.157  0.660  0.318  0.171   \n",
      "k5  -0.460 -0.254 -0.285 -0.663  1.000  0.036  0.119 -0.998 -0.633  0.536   \n",
      "k6  -0.074 -0.150 -0.077 -0.036  0.036  1.000  0.412 -0.024 -0.040 -0.010   \n",
      "k7  -0.186 -0.261 -0.172 -0.157  0.119  0.412  1.000 -0.112 -0.147  0.014   \n",
      "k8   0.451  0.251  0.281  0.660 -0.998 -0.024 -0.112  1.000  0.630 -0.541   \n",
      "k9   0.412  0.238  0.269  0.318 -0.633 -0.040 -0.147  0.630  1.000 -0.471   \n",
      "k10  0.071 -0.013  0.080  0.171  0.536 -0.010  0.014 -0.541 -0.471  1.000   \n",
      "k11 -0.011  0.110  0.060  0.004  0.017 -0.102 -0.159 -0.020  0.030  0.009   \n",
      "k12  0.015  0.090  0.072  0.012  0.028 -0.082 -0.118 -0.032 -0.014  0.038   \n",
      "k13  0.038  0.007  0.149  0.145  0.133 -0.107 -0.189 -0.134 -0.347  0.329   \n",
      "k14  0.326  0.157  0.310  0.205 -0.184 -0.128 -0.273  0.179  0.489 -0.024   \n",
      "k15  0.045  0.097 -0.236  0.134 -0.341 -0.122 -0.220  0.339  0.124 -0.302   \n",
      "k16 -0.273 -0.074 -0.486 -0.123 -0.076 -0.010  0.016  0.077 -0.269 -0.209   \n",
      "k17 -0.018  0.081  0.140 -0.013  0.018 -0.031 -0.137 -0.012 -0.017 -0.012   \n",
      "k18  0.240  0.207  0.205  0.251 -0.098 -0.204 -0.293  0.095  0.086  0.143   \n",
      "k19  0.273  0.247  0.312  0.324 -0.094 -0.172 -0.266  0.093 -0.088  0.251   \n",
      "k20  0.159  0.168  0.233  0.156  0.102 -0.183 -0.240 -0.102 -0.163  0.319   \n",
      "\n",
      "       k11    k12    k13    k14    k15    k16    k17    k18    k19    k20  \n",
      "k1  -0.011  0.015  0.038  0.326  0.045 -0.273 -0.018  0.240  0.273  0.159  \n",
      "k2   0.110  0.090  0.007  0.157  0.097 -0.074  0.081  0.207  0.247  0.168  \n",
      "k3   0.060  0.072  0.149  0.310 -0.236 -0.486  0.140  0.205  0.312  0.233  \n",
      "k4   0.004  0.012  0.145  0.205  0.134 -0.123 -0.013  0.251  0.324  0.156  \n",
      "k5   0.017  0.028  0.133 -0.184 -0.341 -0.076  0.018 -0.098 -0.094  0.102  \n",
      "k6  -0.102 -0.082 -0.107 -0.128 -0.122 -0.010 -0.031 -0.204 -0.172 -0.183  \n",
      "k7  -0.159 -0.118 -0.189 -0.273 -0.220  0.016 -0.137 -0.293 -0.266 -0.240  \n",
      "k8  -0.020 -0.032 -0.134  0.179  0.339  0.077 -0.012  0.095  0.093 -0.102  \n",
      "k9   0.030 -0.014 -0.347  0.489  0.124 -0.269 -0.017  0.086 -0.088 -0.163  \n",
      "k10  0.009  0.038  0.329 -0.024 -0.302 -0.209 -0.012  0.143  0.251  0.319  \n",
      "k11  1.000  0.403  0.059  0.072  0.007 -0.031  0.090  0.261  0.232  0.248  \n",
      "k12  0.403  1.000 -0.034 -0.035 -0.063 -0.024  0.050  0.336  0.252  0.276  \n",
      "k13  0.059 -0.034  1.000  0.493  0.346 -0.186  0.282  0.126  0.473  0.442  \n",
      "k14  0.072 -0.035  0.493  1.000  0.302 -0.515  0.230  0.165  0.267  0.219  \n",
      "k15  0.007 -0.063  0.346  0.302  1.000  0.500  0.128  0.067  0.155  0.069  \n",
      "k16 -0.031 -0.024 -0.186 -0.515  0.500  1.000 -0.086 -0.079 -0.095 -0.101  \n",
      "k17  0.090  0.050  0.282  0.230  0.128 -0.086  1.000  0.159  0.223  0.227  \n",
      "k18  0.261  0.336  0.126  0.165  0.067 -0.079  0.159  1.000  0.721  0.654  \n",
      "k19  0.232  0.252  0.473  0.267  0.155 -0.095  0.223  0.721  1.000  0.899  \n",
      "k20  0.248  0.276  0.442  0.219  0.069 -0.101  0.227  0.654  0.899  1.000  \n",
      "\n",
      "Most close components is:\n",
      "k8 k20\n",
      "k5 k19\n"
     ]
    }
   ],
   "source": [
    "corr = data.corr()\n",
    "print(np.round(corr, 3), end='\\n\\n')\n",
    "close_components = corr[np.abs(corr - np.identity(len(corr))) > 0.85].idxmax().dropna()\n",
    "print('Most close components is:')\n",
    "print(*close_components[::2].values)\n",
    "print(*close_components[1::2].values)"
   ]
  },
  {
   "cell_type": "markdown",
   "metadata": {},
   "source": [
    "**Exclude correlated features**"
   ]
  },
  {
   "cell_type": "code",
   "execution_count": 10,
   "metadata": {},
   "outputs": [
    {
     "data": {
      "text/html": [
       "<div>\n",
       "<style scoped>\n",
       "    .dataframe tbody tr th:only-of-type {\n",
       "        vertical-align: middle;\n",
       "    }\n",
       "\n",
       "    .dataframe tbody tr th {\n",
       "        vertical-align: top;\n",
       "    }\n",
       "\n",
       "    .dataframe thead th {\n",
       "        text-align: right;\n",
       "    }\n",
       "</style>\n",
       "<table border=\"1\" class=\"dataframe\">\n",
       "  <thead>\n",
       "    <tr style=\"text-align: right;\">\n",
       "      <th></th>\n",
       "      <th>6</th>\n",
       "      <th>8</th>\n",
       "      <th>9</th>\n",
       "      <th>13</th>\n",
       "      <th>15</th>\n",
       "    </tr>\n",
       "  </thead>\n",
       "  <tbody>\n",
       "    <tr>\n",
       "      <td>k1</td>\n",
       "      <td>0.098597</td>\n",
       "      <td>0.451991</td>\n",
       "      <td>0.197415</td>\n",
       "      <td>0.245320</td>\n",
       "      <td>0.227536</td>\n",
       "    </tr>\n",
       "    <tr>\n",
       "      <td>k2</td>\n",
       "      <td>0.009823</td>\n",
       "      <td>0.137657</td>\n",
       "      <td>0.077330</td>\n",
       "      <td>0.012315</td>\n",
       "      <td>0.049036</td>\n",
       "    </tr>\n",
       "    <tr>\n",
       "      <td>k3</td>\n",
       "      <td>0.086797</td>\n",
       "      <td>0.368075</td>\n",
       "      <td>0.203479</td>\n",
       "      <td>0.260206</td>\n",
       "      <td>0.153001</td>\n",
       "    </tr>\n",
       "    <tr>\n",
       "      <td>k4</td>\n",
       "      <td>0.382400</td>\n",
       "      <td>0.865250</td>\n",
       "      <td>0.568142</td>\n",
       "      <td>0.668490</td>\n",
       "      <td>0.348037</td>\n",
       "    </tr>\n",
       "    <tr>\n",
       "      <td>k5</td>\n",
       "      <td>0.708862</td>\n",
       "      <td>0.226455</td>\n",
       "      <td>0.468313</td>\n",
       "      <td>0.273354</td>\n",
       "      <td>0.350089</td>\n",
       "    </tr>\n",
       "    <tr>\n",
       "      <td>k6</td>\n",
       "      <td>0.695320</td>\n",
       "      <td>0.037999</td>\n",
       "      <td>0.094229</td>\n",
       "      <td>0.754555</td>\n",
       "      <td>0.489312</td>\n",
       "    </tr>\n",
       "    <tr>\n",
       "      <td>k7</td>\n",
       "      <td>0.143959</td>\n",
       "      <td>0.124823</td>\n",
       "      <td>0.065770</td>\n",
       "      <td>0.658096</td>\n",
       "      <td>0.338944</td>\n",
       "    </tr>\n",
       "    <tr>\n",
       "      <td>k9</td>\n",
       "      <td>0.098462</td>\n",
       "      <td>0.316171</td>\n",
       "      <td>0.233824</td>\n",
       "      <td>0.337768</td>\n",
       "      <td>0.635181</td>\n",
       "    </tr>\n",
       "    <tr>\n",
       "      <td>k10</td>\n",
       "      <td>0.320831</td>\n",
       "      <td>0.356856</td>\n",
       "      <td>0.277969</td>\n",
       "      <td>0.179780</td>\n",
       "      <td>0.076868</td>\n",
       "    </tr>\n",
       "    <tr>\n",
       "      <td>k11</td>\n",
       "      <td>0.421165</td>\n",
       "      <td>0.275497</td>\n",
       "      <td>0.205160</td>\n",
       "      <td>0.285318</td>\n",
       "      <td>0.370819</td>\n",
       "    </tr>\n",
       "    <tr>\n",
       "      <td>k12</td>\n",
       "      <td>0.288208</td>\n",
       "      <td>0.254751</td>\n",
       "      <td>0.264475</td>\n",
       "      <td>0.301559</td>\n",
       "      <td>0.259582</td>\n",
       "    </tr>\n",
       "    <tr>\n",
       "      <td>k13</td>\n",
       "      <td>0.373787</td>\n",
       "      <td>0.763676</td>\n",
       "      <td>0.466258</td>\n",
       "      <td>0.381646</td>\n",
       "      <td>0.087966</td>\n",
       "    </tr>\n",
       "    <tr>\n",
       "      <td>k14</td>\n",
       "      <td>0.164433</td>\n",
       "      <td>0.579732</td>\n",
       "      <td>0.339853</td>\n",
       "      <td>0.335903</td>\n",
       "      <td>0.212925</td>\n",
       "    </tr>\n",
       "    <tr>\n",
       "      <td>k15</td>\n",
       "      <td>0.309814</td>\n",
       "      <td>0.477901</td>\n",
       "      <td>0.324525</td>\n",
       "      <td>0.267718</td>\n",
       "      <td>0.215811</td>\n",
       "    </tr>\n",
       "    <tr>\n",
       "      <td>k16</td>\n",
       "      <td>0.379525</td>\n",
       "      <td>0.189457</td>\n",
       "      <td>0.214220</td>\n",
       "      <td>0.181186</td>\n",
       "      <td>0.220810</td>\n",
       "    </tr>\n",
       "    <tr>\n",
       "      <td>k17</td>\n",
       "      <td>0.015585</td>\n",
       "      <td>0.064531</td>\n",
       "      <td>0.095727</td>\n",
       "      <td>0.031377</td>\n",
       "      <td>0.017875</td>\n",
       "    </tr>\n",
       "    <tr>\n",
       "      <td>k18</td>\n",
       "      <td>0.446422</td>\n",
       "      <td>0.505434</td>\n",
       "      <td>0.640496</td>\n",
       "      <td>0.485261</td>\n",
       "      <td>0.452111</td>\n",
       "    </tr>\n",
       "    <tr>\n",
       "      <td>k19</td>\n",
       "      <td>0.343689</td>\n",
       "      <td>0.600184</td>\n",
       "      <td>0.509554</td>\n",
       "      <td>0.332753</td>\n",
       "      <td>0.284863</td>\n",
       "    </tr>\n",
       "  </tbody>\n",
       "</table>\n",
       "</div>"
      ],
      "text/plain": [
       "           6         8         9         13        15\n",
       "k1   0.098597  0.451991  0.197415  0.245320  0.227536\n",
       "k2   0.009823  0.137657  0.077330  0.012315  0.049036\n",
       "k3   0.086797  0.368075  0.203479  0.260206  0.153001\n",
       "k4   0.382400  0.865250  0.568142  0.668490  0.348037\n",
       "k5   0.708862  0.226455  0.468313  0.273354  0.350089\n",
       "k6   0.695320  0.037999  0.094229  0.754555  0.489312\n",
       "k7   0.143959  0.124823  0.065770  0.658096  0.338944\n",
       "k9   0.098462  0.316171  0.233824  0.337768  0.635181\n",
       "k10  0.320831  0.356856  0.277969  0.179780  0.076868\n",
       "k11  0.421165  0.275497  0.205160  0.285318  0.370819\n",
       "k12  0.288208  0.254751  0.264475  0.301559  0.259582\n",
       "k13  0.373787  0.763676  0.466258  0.381646  0.087966\n",
       "k14  0.164433  0.579732  0.339853  0.335903  0.212925\n",
       "k15  0.309814  0.477901  0.324525  0.267718  0.215811\n",
       "k16  0.379525  0.189457  0.214220  0.181186  0.220810\n",
       "k17  0.015585  0.064531  0.095727  0.031377  0.017875\n",
       "k18  0.446422  0.505434  0.640496  0.485261  0.452111\n",
       "k19  0.343689  0.600184  0.509554  0.332753  0.284863"
      ]
     },
     "execution_count": 10,
     "metadata": {},
     "output_type": "execute_result"
    }
   ],
   "source": [
    "low_corr_data = data.drop(columns = close_components[::2].values)\n",
    "low_corr_data.head().T"
   ]
  },
  {
   "cell_type": "markdown",
   "metadata": {},
   "source": [
    "### Bartlett's sphericity criterion, statistics Kaiser - Meyer - Olkin:"
   ]
  },
  {
   "cell_type": "code",
   "execution_count": 11,
   "metadata": {
    "pycharm": {
     "is_executing": false,
     "name": "#%%\n"
    }
   },
   "outputs": [
    {
     "name": "stdout",
     "output_type": "stream",
     "text": [
      "Chi-square statistic: 11501.04; p-value: 0.00\n",
      "Statistics Kaiser - Meyer - Olkin: 0.590\n"
     ]
    }
   ],
   "source": [
    "new_length = len(low_corr_data) - np.max([low_corr_data[k].isna().sum() for k in low_corr_data])\n",
    "censor_data = np.array([low_corr_data[k].dropna().to_numpy()[:new_length] for k in low_corr_data])\n",
    "censor_data = pd.DataFrame(censor_data.T, columns=low_corr_data.columns)\n",
    "print('Chi-square statistic: %.2f; p-value: %.2f' % calculate_bartlett_sphericity(censor_data))\n",
    "print('Statistics Kaiser - Meyer - Olkin: %.3f' % calculate_kmo(censor_data)[1])"
   ]
  },
  {
   "cell_type": "markdown",
   "metadata": {},
   "source": [
    "*Factor analysis is applicable*"
   ]
  },
  {
   "cell_type": "markdown",
   "metadata": {},
   "source": [
    "### Factor analysis:"
   ]
  },
  {
   "cell_type": "code",
   "execution_count": 12,
   "metadata": {
    "pycharm": {
     "is_executing": false,
     "name": "#%%\n"
    }
   },
   "outputs": [
    {
     "data": {
      "text/html": [
       "<div>\n",
       "<style scoped>\n",
       "    .dataframe tbody tr th:only-of-type {\n",
       "        vertical-align: middle;\n",
       "    }\n",
       "\n",
       "    .dataframe tbody tr th {\n",
       "        vertical-align: top;\n",
       "    }\n",
       "\n",
       "    .dataframe thead th {\n",
       "        text-align: right;\n",
       "    }\n",
       "</style>\n",
       "<table border=\"1\" class=\"dataframe\">\n",
       "  <thead>\n",
       "    <tr style=\"text-align: right;\">\n",
       "      <th></th>\n",
       "      <th>eig_value</th>\n",
       "      <th>percent_var</th>\n",
       "      <th>cum_percent_var</th>\n",
       "    </tr>\n",
       "  </thead>\n",
       "  <tbody>\n",
       "    <tr>\n",
       "      <td>0</td>\n",
       "      <td>4.17516</td>\n",
       "      <td>23.1953</td>\n",
       "      <td>23.1953</td>\n",
       "    </tr>\n",
       "    <tr>\n",
       "      <td>1</td>\n",
       "      <td>2.598</td>\n",
       "      <td>14.4333</td>\n",
       "      <td>37.6287</td>\n",
       "    </tr>\n",
       "    <tr>\n",
       "      <td>2</td>\n",
       "      <td>2.07415</td>\n",
       "      <td>11.5231</td>\n",
       "      <td>49.1517</td>\n",
       "    </tr>\n",
       "    <tr>\n",
       "      <td>3</td>\n",
       "      <td>1.66646</td>\n",
       "      <td>9.25812</td>\n",
       "      <td>58.4099</td>\n",
       "    </tr>\n",
       "    <tr>\n",
       "      <td>4</td>\n",
       "      <td>1.40591</td>\n",
       "      <td>7.81064</td>\n",
       "      <td>66.2205</td>\n",
       "    </tr>\n",
       "    <tr>\n",
       "      <td>5</td>\n",
       "      <td>1.14974</td>\n",
       "      <td>6.38743</td>\n",
       "      <td>72.6079</td>\n",
       "    </tr>\n",
       "    <tr>\n",
       "      <td>6</td>\n",
       "      <td>0.966088</td>\n",
       "      <td>5.36716</td>\n",
       "      <td>77.9751</td>\n",
       "    </tr>\n",
       "    <tr>\n",
       "      <td>7</td>\n",
       "      <td>0.811897</td>\n",
       "      <td>4.51054</td>\n",
       "      <td>82.4856</td>\n",
       "    </tr>\n",
       "    <tr>\n",
       "      <td>8</td>\n",
       "      <td>0.665571</td>\n",
       "      <td>3.69762</td>\n",
       "      <td>86.1832</td>\n",
       "    </tr>\n",
       "    <tr>\n",
       "      <td>9</td>\n",
       "      <td>0.57483</td>\n",
       "      <td>3.1935</td>\n",
       "      <td>89.3767</td>\n",
       "    </tr>\n",
       "    <tr>\n",
       "      <td>10</td>\n",
       "      <td>0.570317</td>\n",
       "      <td>3.16843</td>\n",
       "      <td>92.5452</td>\n",
       "    </tr>\n",
       "    <tr>\n",
       "      <td>11</td>\n",
       "      <td>0.48102</td>\n",
       "      <td>2.67233</td>\n",
       "      <td>95.2175</td>\n",
       "    </tr>\n",
       "    <tr>\n",
       "      <td>12</td>\n",
       "      <td>0.34466</td>\n",
       "      <td>1.91478</td>\n",
       "      <td>97.1323</td>\n",
       "    </tr>\n",
       "    <tr>\n",
       "      <td>13</td>\n",
       "      <td>0.189092</td>\n",
       "      <td>1.05051</td>\n",
       "      <td>98.1828</td>\n",
       "    </tr>\n",
       "    <tr>\n",
       "      <td>14</td>\n",
       "      <td>0.126284</td>\n",
       "      <td>0.701579</td>\n",
       "      <td>98.8844</td>\n",
       "    </tr>\n",
       "    <tr>\n",
       "      <td>15</td>\n",
       "      <td>0.0848207</td>\n",
       "      <td>0.471226</td>\n",
       "      <td>99.3556</td>\n",
       "    </tr>\n",
       "    <tr>\n",
       "      <td>16</td>\n",
       "      <td>0.0645758</td>\n",
       "      <td>0.358754</td>\n",
       "      <td>99.7144</td>\n",
       "    </tr>\n",
       "    <tr>\n",
       "      <td>17</td>\n",
       "      <td>0.0514154</td>\n",
       "      <td>0.285641</td>\n",
       "      <td>100</td>\n",
       "    </tr>\n",
       "  </tbody>\n",
       "</table>\n",
       "</div>"
      ],
      "text/plain": [
       "    eig_value percent_var cum_percent_var\n",
       "0     4.17516     23.1953         23.1953\n",
       "1       2.598     14.4333         37.6287\n",
       "2     2.07415     11.5231         49.1517\n",
       "3     1.66646     9.25812         58.4099\n",
       "4     1.40591     7.81064         66.2205\n",
       "5     1.14974     6.38743         72.6079\n",
       "6    0.966088     5.36716         77.9751\n",
       "7    0.811897     4.51054         82.4856\n",
       "8    0.665571     3.69762         86.1832\n",
       "9     0.57483      3.1935         89.3767\n",
       "10   0.570317     3.16843         92.5452\n",
       "11    0.48102     2.67233         95.2175\n",
       "12    0.34466     1.91478         97.1323\n",
       "13   0.189092     1.05051         98.1828\n",
       "14   0.126284    0.701579         98.8844\n",
       "15  0.0848207    0.471226         99.3556\n",
       "16  0.0645758    0.358754         99.7144\n",
       "17  0.0514154    0.285641             100"
      ]
     },
     "execution_count": 12,
     "metadata": {},
     "output_type": "execute_result"
    }
   ],
   "source": [
    "eig_vals, eig_vecs = np.linalg.eig(low_corr_data.corr())\n",
    "eig_pairs = np.array(sorted(list(zip(eig_vals, eig_vecs)), key=lambda x: -x[0]))\n",
    "eig_vals = eig_pairs[:, 0]\n",
    "normalized = eig_vals / np.sum(eig_vals) * 100\n",
    "pd.DataFrame(np.array([eig_vals, normalized, np.cumsum(normalized)]).T,\n",
    "             columns=['eig_value', 'percent_var', 'cum_percent_var'])"
   ]
  },
  {
   "cell_type": "code",
   "execution_count": 13,
   "metadata": {},
   "outputs": [
    {
     "data": {
      "image/png": "[encoded data removed]",
      "text/plain": [
       "<Figure size 432x288 with 1 Axes>"
      ]
     },
     "metadata": {
      "needs_background": "light"
     },
     "output_type": "display_data"
    }
   ],
   "source": [
    "plt.plot(eig_vals, 'bo')\n",
    "plt.show()"
   ]
  },
  {
   "cell_type": "markdown",
   "metadata": {},
   "source": [
    "### Principal component analysis:"
   ]
  },
  {
   "cell_type": "code",
   "execution_count": 14,
   "metadata": {
    "pycharm": {
     "is_executing": false,
     "name": "#%%\n"
    }
   },
   "outputs": [
    {
     "data": {
      "text/plain": [
       "((1018, 18), (1018, 4))"
      ]
     },
     "execution_count": 14,
     "metadata": {},
     "output_type": "execute_result"
    }
   ],
   "source": [
    "transform_matrix = np.array([*eig_pairs[:, 1][np.cumsum(normalized) < 60]])\n",
    "pca_data = pd.DataFrame(censor_data.dot(transform_matrix.T))\n",
    "censor_data.shape, pca_data.shape"
   ]
  },
  {
   "cell_type": "markdown",
   "metadata": {},
   "source": [
    "### Cluster analysis:"
   ]
  },
  {
   "cell_type": "code",
   "execution_count": 15,
   "metadata": {},
   "outputs": [
    {
     "name": "stdout",
     "output_type": "stream",
     "text": [
      "Size of clusters:\n",
      "2    342\n",
      "0    250\n",
      "3    223\n",
      "1    203\n",
      "Name: clusters, dtype: int64\n",
      "Size of clusters in percents:\n",
      "2    33.60\n",
      "0    24.56\n",
      "3    21.91\n",
      "1    19.94\n",
      "Name: clusters, dtype: float64\n"
     ]
    },
    {
     "data": {
      "text/html": [
       "<div>\n",
       "<style scoped>\n",
       "    .dataframe tbody tr th:only-of-type {\n",
       "        vertical-align: middle;\n",
       "    }\n",
       "\n",
       "    .dataframe tbody tr th {\n",
       "        vertical-align: top;\n",
       "    }\n",
       "\n",
       "    .dataframe thead th {\n",
       "        text-align: right;\n",
       "    }\n",
       "</style>\n",
       "<table border=\"1\" class=\"dataframe\">\n",
       "  <thead>\n",
       "    <tr style=\"text-align: right;\">\n",
       "      <th></th>\n",
       "      <th>0</th>\n",
       "      <th>1</th>\n",
       "      <th>2</th>\n",
       "      <th>3</th>\n",
       "    </tr>\n",
       "  </thead>\n",
       "  <tbody>\n",
       "    <tr>\n",
       "      <td>0</td>\n",
       "      <td>0.975472</td>\n",
       "      <td>-0.124650</td>\n",
       "      <td>-0.193935</td>\n",
       "      <td>-0.157532</td>\n",
       "    </tr>\n",
       "    <tr>\n",
       "      <td>1</td>\n",
       "      <td>0.632757</td>\n",
       "      <td>-0.377757</td>\n",
       "      <td>-0.490943</td>\n",
       "      <td>0.315789</td>\n",
       "    </tr>\n",
       "    <tr>\n",
       "      <td>2</td>\n",
       "      <td>0.581350</td>\n",
       "      <td>-0.103857</td>\n",
       "      <td>-0.223133</td>\n",
       "      <td>0.099765</td>\n",
       "    </tr>\n",
       "    <tr>\n",
       "      <td>3</td>\n",
       "      <td>0.898807</td>\n",
       "      <td>0.009979</td>\n",
       "      <td>-0.428864</td>\n",
       "      <td>0.158969</td>\n",
       "    </tr>\n",
       "  </tbody>\n",
       "</table>\n",
       "</div>"
      ],
      "text/plain": [
       "          0         1         2         3\n",
       "0  0.975472 -0.124650 -0.193935 -0.157532\n",
       "1  0.632757 -0.377757 -0.490943  0.315789\n",
       "2  0.581350 -0.103857 -0.223133  0.099765\n",
       "3  0.898807  0.009979 -0.428864  0.158969"
      ]
     },
     "execution_count": 15,
     "metadata": {},
     "output_type": "execute_result"
    }
   ],
   "source": [
    "from sklearn.cluster import KMeans\n",
    "\n",
    "count = 4\n",
    "model = KMeans(n_clusters=count)\n",
    "model.fit(pca_data)\n",
    "pca_data['clusters'] = model.predict(pca_data)\n",
    "\n",
    "print('Size of clusters:')\n",
    "print(pd.Series(pca_data.clusters).value_counts())\n",
    "print('Size of clusters in percents:')\n",
    "print(np.round(pd.Series(pca_data.clusters).value_counts() / pca_data.shape[0] * 100, 2))\n",
    "pd.DataFrame(model.cluster_centers_)"
   ]
  },
  {
   "cell_type": "code",
   "execution_count": 16,
   "metadata": {},
   "outputs": [
    {
     "data": {
      "image/png": "[encoded data removed]",
      "text/plain": [
       "<Figure size 432x288 with 1 Axes>"
      ]
     },
     "metadata": {
      "needs_background": "light"
     },
     "output_type": "display_data"
    }
   ],
   "source": [
    "import mpl_toolkits.mplot3d\n",
    "\n",
    "for i in range(4):\n",
    "    temp = pca_data[pca_data['clusters'] == i]\n",
    "    plt.gca(projection='3d')\n",
    "    plt.plot(temp[0], temp[1], temp[2], 'o', markersize=2)"
   ]
  },
  {
   "cell_type": "markdown",
   "metadata": {},
   "source": [
    "### Discriminant analysis:"
   ]
  },
  {
   "cell_type": "code",
   "execution_count": 17,
   "metadata": {},
   "outputs": [
    {
     "data": {
      "text/plain": [
       "LinearDiscriminantAnalysis(n_components=None, priors=None, shrinkage=None,\n",
       "                           solver='svd', store_covariance=False, tol=0.0001)"
      ]
     },
     "execution_count": 17,
     "metadata": {},
     "output_type": "execute_result"
    }
   ],
   "source": [
    "from sklearn.model_selection import train_test_split\n",
    "from sklearn.discriminant_analysis import LinearDiscriminantAnalysis\n",
    "\n",
    "x_train, x_validate, y_train, y_validate = train_test_split(\n",
    "    pca_data.drop(['clusters'], axis=1), pca_data.clusters, train_size=0.7)\n",
    "\n",
    "lda = LinearDiscriminantAnalysis()\n",
    "lda.fit(x_train, y_train)"
   ]
  },
  {
   "cell_type": "code",
   "execution_count": 18,
   "metadata": {},
   "outputs": [
    {
     "data": {
      "text/html": [
       "<div>\n",
       "<style scoped>\n",
       "    .dataframe tbody tr th:only-of-type {\n",
       "        vertical-align: middle;\n",
       "    }\n",
       "\n",
       "    .dataframe tbody tr th {\n",
       "        vertical-align: top;\n",
       "    }\n",
       "\n",
       "    .dataframe thead th {\n",
       "        text-align: right;\n",
       "    }\n",
       "</style>\n",
       "<table border=\"1\" class=\"dataframe\">\n",
       "  <thead>\n",
       "    <tr style=\"text-align: right;\">\n",
       "      <th>col_0</th>\n",
       "      <th>0</th>\n",
       "      <th>1</th>\n",
       "      <th>2</th>\n",
       "      <th>3</th>\n",
       "    </tr>\n",
       "    <tr>\n",
       "      <th>clusters</th>\n",
       "      <th></th>\n",
       "      <th></th>\n",
       "      <th></th>\n",
       "      <th></th>\n",
       "    </tr>\n",
       "  </thead>\n",
       "  <tbody>\n",
       "    <tr>\n",
       "      <td>0</td>\n",
       "      <td>154</td>\n",
       "      <td>0</td>\n",
       "      <td>8</td>\n",
       "      <td>3</td>\n",
       "    </tr>\n",
       "    <tr>\n",
       "      <td>1</td>\n",
       "      <td>0</td>\n",
       "      <td>125</td>\n",
       "      <td>7</td>\n",
       "      <td>1</td>\n",
       "    </tr>\n",
       "    <tr>\n",
       "      <td>2</td>\n",
       "      <td>1</td>\n",
       "      <td>0</td>\n",
       "      <td>246</td>\n",
       "      <td>0</td>\n",
       "    </tr>\n",
       "    <tr>\n",
       "      <td>3</td>\n",
       "      <td>3</td>\n",
       "      <td>0</td>\n",
       "      <td>13</td>\n",
       "      <td>151</td>\n",
       "    </tr>\n",
       "  </tbody>\n",
       "</table>\n",
       "</div>"
      ],
      "text/plain": [
       "col_0       0    1    2    3\n",
       "clusters                    \n",
       "0         154    0    8    3\n",
       "1           0  125    7    1\n",
       "2           1    0  246    0\n",
       "3           3    0   13  151"
      ]
     },
     "execution_count": 18,
     "metadata": {},
     "output_type": "execute_result"
    }
   ],
   "source": [
    "pd.crosstab(y_train, lda.predict(x_train))"
   ]
  },
  {
   "cell_type": "code",
   "execution_count": 19,
   "metadata": {},
   "outputs": [
    {
     "data": {
      "text/html": [
       "<div>\n",
       "<style scoped>\n",
       "    .dataframe tbody tr th:only-of-type {\n",
       "        vertical-align: middle;\n",
       "    }\n",
       "\n",
       "    .dataframe tbody tr th {\n",
       "        vertical-align: top;\n",
       "    }\n",
       "\n",
       "    .dataframe thead th {\n",
       "        text-align: right;\n",
       "    }\n",
       "</style>\n",
       "<table border=\"1\" class=\"dataframe\">\n",
       "  <thead>\n",
       "    <tr style=\"text-align: right;\">\n",
       "      <th>col_0</th>\n",
       "      <th>0</th>\n",
       "      <th>1</th>\n",
       "      <th>2</th>\n",
       "      <th>3</th>\n",
       "    </tr>\n",
       "    <tr>\n",
       "      <th>clusters</th>\n",
       "      <th></th>\n",
       "      <th></th>\n",
       "      <th></th>\n",
       "      <th></th>\n",
       "    </tr>\n",
       "  </thead>\n",
       "  <tbody>\n",
       "    <tr>\n",
       "      <td>0</td>\n",
       "      <td>78</td>\n",
       "      <td>0</td>\n",
       "      <td>4</td>\n",
       "      <td>3</td>\n",
       "    </tr>\n",
       "    <tr>\n",
       "      <td>1</td>\n",
       "      <td>1</td>\n",
       "      <td>60</td>\n",
       "      <td>4</td>\n",
       "      <td>5</td>\n",
       "    </tr>\n",
       "    <tr>\n",
       "      <td>2</td>\n",
       "      <td>0</td>\n",
       "      <td>0</td>\n",
       "      <td>95</td>\n",
       "      <td>0</td>\n",
       "    </tr>\n",
       "    <tr>\n",
       "      <td>3</td>\n",
       "      <td>3</td>\n",
       "      <td>0</td>\n",
       "      <td>3</td>\n",
       "      <td>50</td>\n",
       "    </tr>\n",
       "  </tbody>\n",
       "</table>\n",
       "</div>"
      ],
      "text/plain": [
       "col_0      0   1   2   3\n",
       "clusters                \n",
       "0         78   0   4   3\n",
       "1          1  60   4   5\n",
       "2          0   0  95   0\n",
       "3          3   0   3  50"
      ]
     },
     "execution_count": 19,
     "metadata": {},
     "output_type": "execute_result"
    }
   ],
   "source": [
    "cross_validate = pd.crosstab(y_validate, lda.predict(x_validate))\n",
    "cross_validate"
   ]
  },
  {
   "cell_type": "code",
   "execution_count": 20,
   "metadata": {},
   "outputs": [
    {
     "data": {
      "text/html": [
       "<div>\n",
       "<style scoped>\n",
       "    .dataframe tbody tr th:only-of-type {\n",
       "        vertical-align: middle;\n",
       "    }\n",
       "\n",
       "    .dataframe tbody tr th {\n",
       "        vertical-align: top;\n",
       "    }\n",
       "\n",
       "    .dataframe thead th {\n",
       "        text-align: right;\n",
       "    }\n",
       "</style>\n",
       "<table border=\"1\" class=\"dataframe\">\n",
       "  <thead>\n",
       "    <tr style=\"text-align: right;\">\n",
       "      <th>col_0</th>\n",
       "      <th>0</th>\n",
       "      <th>1</th>\n",
       "      <th>2</th>\n",
       "      <th>3</th>\n",
       "    </tr>\n",
       "    <tr>\n",
       "      <th>clusters</th>\n",
       "      <th></th>\n",
       "      <th></th>\n",
       "      <th></th>\n",
       "      <th></th>\n",
       "    </tr>\n",
       "  </thead>\n",
       "  <tbody>\n",
       "    <tr>\n",
       "      <td>0</td>\n",
       "      <td>0.917647</td>\n",
       "      <td>0.000000</td>\n",
       "      <td>0.042105</td>\n",
       "      <td>0.053571</td>\n",
       "    </tr>\n",
       "    <tr>\n",
       "      <td>1</td>\n",
       "      <td>0.011765</td>\n",
       "      <td>0.857143</td>\n",
       "      <td>0.042105</td>\n",
       "      <td>0.089286</td>\n",
       "    </tr>\n",
       "    <tr>\n",
       "      <td>2</td>\n",
       "      <td>0.000000</td>\n",
       "      <td>0.000000</td>\n",
       "      <td>1.000000</td>\n",
       "      <td>0.000000</td>\n",
       "    </tr>\n",
       "    <tr>\n",
       "      <td>3</td>\n",
       "      <td>0.035294</td>\n",
       "      <td>0.000000</td>\n",
       "      <td>0.031579</td>\n",
       "      <td>0.892857</td>\n",
       "    </tr>\n",
       "  </tbody>\n",
       "</table>\n",
       "</div>"
      ],
      "text/plain": [
       "col_0            0         1         2         3\n",
       "clusters                                        \n",
       "0         0.917647  0.000000  0.042105  0.053571\n",
       "1         0.011765  0.857143  0.042105  0.089286\n",
       "2         0.000000  0.000000  1.000000  0.000000\n",
       "3         0.035294  0.000000  0.031579  0.892857"
      ]
     },
     "execution_count": 20,
     "metadata": {},
     "output_type": "execute_result"
    }
   ],
   "source": [
    "cross_validate / np.sum(cross_validate, axis=1)"
   ]
  },
  {
   "cell_type": "code",
   "execution_count": 21,
   "metadata": {},
   "outputs": [
    {
     "name": "stdout",
     "output_type": "stream",
     "text": [
      "Total error 0.07516\n"
     ]
    },
    {
     "data": {
      "text/html": [
       "<div>\n",
       "<style scoped>\n",
       "    .dataframe tbody tr th:only-of-type {\n",
       "        vertical-align: middle;\n",
       "    }\n",
       "\n",
       "    .dataframe tbody tr th {\n",
       "        vertical-align: top;\n",
       "    }\n",
       "\n",
       "    .dataframe thead th {\n",
       "        text-align: right;\n",
       "    }\n",
       "</style>\n",
       "<table border=\"1\" class=\"dataframe\">\n",
       "  <thead>\n",
       "    <tr style=\"text-align: right;\">\n",
       "      <th></th>\n",
       "      <th>Estimation of cluster probability</th>\n",
       "      <th>Estimation of error</th>\n",
       "    </tr>\n",
       "  </thead>\n",
       "  <tbody>\n",
       "    <tr>\n",
       "      <td>0</td>\n",
       "      <td>0.254902</td>\n",
       "      <td>0.022876</td>\n",
       "    </tr>\n",
       "    <tr>\n",
       "      <td>1</td>\n",
       "      <td>0.196078</td>\n",
       "      <td>0.032680</td>\n",
       "    </tr>\n",
       "    <tr>\n",
       "      <td>2</td>\n",
       "      <td>0.310458</td>\n",
       "      <td>0.000000</td>\n",
       "    </tr>\n",
       "    <tr>\n",
       "      <td>3</td>\n",
       "      <td>0.163399</td>\n",
       "      <td>0.019608</td>\n",
       "    </tr>\n",
       "  </tbody>\n",
       "</table>\n",
       "</div>"
      ],
      "text/plain": [
       "   Estimation of cluster probability  Estimation of error\n",
       "0                           0.254902             0.022876\n",
       "1                           0.196078             0.032680\n",
       "2                           0.310458             0.000000\n",
       "3                           0.163399             0.019608"
      ]
     },
     "execution_count": 21,
     "metadata": {},
     "output_type": "execute_result"
    }
   ],
   "source": [
    "cross_validate = pd.crosstab(y_validate, lda.predict(x_validate), normalize=True)\n",
    "\n",
    "print('Total error %.5f' % np.sum((cross_validate - np.diag(np.diag(cross_validate))).to_numpy()))\n",
    "\n",
    "pd.DataFrame(np.array([\n",
    "    np.diag(cross_validate),\n",
    "    np.sum(cross_validate - np.diag(np.diag(cross_validate)), axis=1)\n",
    "]).T, columns=['Estimation of cluster probability', 'Estimation of error'])"
   ]
  },
  {
   "cell_type": "markdown",
   "metadata": {},
   "source": [
    "Coefficitents of analyzing functions:"
   ]
  },
  {
   "cell_type": "code",
   "execution_count": 22,
   "metadata": {},
   "outputs": [
    {
     "data": {
      "text/html": [
       "<div>\n",
       "<style scoped>\n",
       "    .dataframe tbody tr th:only-of-type {\n",
       "        vertical-align: middle;\n",
       "    }\n",
       "\n",
       "    .dataframe tbody tr th {\n",
       "        vertical-align: top;\n",
       "    }\n",
       "\n",
       "    .dataframe thead th {\n",
       "        text-align: right;\n",
       "    }\n",
       "</style>\n",
       "<table border=\"1\" class=\"dataframe\">\n",
       "  <thead>\n",
       "    <tr style=\"text-align: right;\">\n",
       "      <th></th>\n",
       "      <th>0</th>\n",
       "      <th>1</th>\n",
       "      <th>2</th>\n",
       "      <th>3</th>\n",
       "    </tr>\n",
       "  </thead>\n",
       "  <tbody>\n",
       "    <tr>\n",
       "      <td>0</td>\n",
       "      <td>10.700070</td>\n",
       "      <td>-4.550157</td>\n",
       "      <td>-7.929466</td>\n",
       "      <td>4.779865</td>\n",
       "    </tr>\n",
       "    <tr>\n",
       "      <td>1</td>\n",
       "      <td>-1.810758</td>\n",
       "      <td>-11.443976</td>\n",
       "      <td>2.060148</td>\n",
       "      <td>7.856092</td>\n",
       "    </tr>\n",
       "    <tr>\n",
       "      <td>2</td>\n",
       "      <td>7.485621</td>\n",
       "      <td>-8.003901</td>\n",
       "      <td>4.076618</td>\n",
       "      <td>-7.051098</td>\n",
       "    </tr>\n",
       "    <tr>\n",
       "      <td>3</td>\n",
       "      <td>-10.143655</td>\n",
       "      <td>8.623491</td>\n",
       "      <td>0.331433</td>\n",
       "      <td>2.664161</td>\n",
       "    </tr>\n",
       "  </tbody>\n",
       "</table>\n",
       "</div>"
      ],
      "text/plain": [
       "           0          1         2         3\n",
       "0  10.700070  -4.550157 -7.929466  4.779865\n",
       "1  -1.810758 -11.443976  2.060148  7.856092\n",
       "2   7.485621  -8.003901  4.076618 -7.051098\n",
       "3 -10.143655   8.623491  0.331433  2.664161"
      ]
     },
     "execution_count": 22,
     "metadata": {},
     "output_type": "execute_result"
    }
   ],
   "source": [
    "pd.DataFrame(lda.coef_).T"
   ]
  },
  {
   "cell_type": "markdown",
   "metadata": {},
   "source": [
    "### Classification based on the logit model multiple choise:"
   ]
  },
  {
   "cell_type": "code",
   "execution_count": 23,
   "metadata": {},
   "outputs": [
    {
     "data": {
      "text/plain": [
       "LogisticRegression(C=1.0, class_weight=None, dual=False, fit_intercept=True,\n",
       "                   intercept_scaling=1, l1_ratio=None, max_iter=100,\n",
       "                   multi_class='warn', n_jobs=None, penalty='l2',\n",
       "                   random_state=None, solver='warn', tol=0.0001, verbose=0,\n",
       "                   warm_start=False)"
      ]
     },
     "execution_count": 23,
     "metadata": {},
     "output_type": "execute_result"
    }
   ],
   "source": [
    "from sklearn.linear_model import LogisticRegression\n",
    "\n",
    "lreg = LogisticRegression()\n",
    "lreg.fit(x_train, y_train)"
   ]
  },
  {
   "cell_type": "code",
   "execution_count": 24,
   "metadata": {},
   "outputs": [
    {
     "data": {
      "text/html": [
       "<div>\n",
       "<style scoped>\n",
       "    .dataframe tbody tr th:only-of-type {\n",
       "        vertical-align: middle;\n",
       "    }\n",
       "\n",
       "    .dataframe tbody tr th {\n",
       "        vertical-align: top;\n",
       "    }\n",
       "\n",
       "    .dataframe thead th {\n",
       "        text-align: right;\n",
       "    }\n",
       "</style>\n",
       "<table border=\"1\" class=\"dataframe\">\n",
       "  <thead>\n",
       "    <tr style=\"text-align: right;\">\n",
       "      <th>col_0</th>\n",
       "      <th>0</th>\n",
       "      <th>1</th>\n",
       "      <th>2</th>\n",
       "      <th>3</th>\n",
       "    </tr>\n",
       "    <tr>\n",
       "      <th>clusters</th>\n",
       "      <th></th>\n",
       "      <th></th>\n",
       "      <th></th>\n",
       "      <th></th>\n",
       "    </tr>\n",
       "  </thead>\n",
       "  <tbody>\n",
       "    <tr>\n",
       "      <td>0</td>\n",
       "      <td>162</td>\n",
       "      <td>0</td>\n",
       "      <td>3</td>\n",
       "      <td>0</td>\n",
       "    </tr>\n",
       "    <tr>\n",
       "      <td>1</td>\n",
       "      <td>0</td>\n",
       "      <td>122</td>\n",
       "      <td>7</td>\n",
       "      <td>4</td>\n",
       "    </tr>\n",
       "    <tr>\n",
       "      <td>2</td>\n",
       "      <td>6</td>\n",
       "      <td>2</td>\n",
       "      <td>239</td>\n",
       "      <td>0</td>\n",
       "    </tr>\n",
       "    <tr>\n",
       "      <td>3</td>\n",
       "      <td>5</td>\n",
       "      <td>5</td>\n",
       "      <td>11</td>\n",
       "      <td>146</td>\n",
       "    </tr>\n",
       "  </tbody>\n",
       "</table>\n",
       "</div>"
      ],
      "text/plain": [
       "col_0       0    1    2    3\n",
       "clusters                    \n",
       "0         162    0    3    0\n",
       "1           0  122    7    4\n",
       "2           6    2  239    0\n",
       "3           5    5   11  146"
      ]
     },
     "execution_count": 24,
     "metadata": {},
     "output_type": "execute_result"
    }
   ],
   "source": [
    "pd.crosstab(y_train, lreg.predict(x_train))"
   ]
  },
  {
   "cell_type": "code",
   "execution_count": 25,
   "metadata": {},
   "outputs": [
    {
     "data": {
      "text/html": [
       "<div>\n",
       "<style scoped>\n",
       "    .dataframe tbody tr th:only-of-type {\n",
       "        vertical-align: middle;\n",
       "    }\n",
       "\n",
       "    .dataframe tbody tr th {\n",
       "        vertical-align: top;\n",
       "    }\n",
       "\n",
       "    .dataframe thead th {\n",
       "        text-align: right;\n",
       "    }\n",
       "</style>\n",
       "<table border=\"1\" class=\"dataframe\">\n",
       "  <thead>\n",
       "    <tr style=\"text-align: right;\">\n",
       "      <th>col_0</th>\n",
       "      <th>0</th>\n",
       "      <th>1</th>\n",
       "      <th>2</th>\n",
       "      <th>3</th>\n",
       "    </tr>\n",
       "    <tr>\n",
       "      <th>clusters</th>\n",
       "      <th></th>\n",
       "      <th></th>\n",
       "      <th></th>\n",
       "      <th></th>\n",
       "    </tr>\n",
       "  </thead>\n",
       "  <tbody>\n",
       "    <tr>\n",
       "      <td>0</td>\n",
       "      <td>82</td>\n",
       "      <td>0</td>\n",
       "      <td>2</td>\n",
       "      <td>1</td>\n",
       "    </tr>\n",
       "    <tr>\n",
       "      <td>1</td>\n",
       "      <td>1</td>\n",
       "      <td>56</td>\n",
       "      <td>6</td>\n",
       "      <td>7</td>\n",
       "    </tr>\n",
       "    <tr>\n",
       "      <td>2</td>\n",
       "      <td>0</td>\n",
       "      <td>1</td>\n",
       "      <td>94</td>\n",
       "      <td>0</td>\n",
       "    </tr>\n",
       "    <tr>\n",
       "      <td>3</td>\n",
       "      <td>6</td>\n",
       "      <td>0</td>\n",
       "      <td>3</td>\n",
       "      <td>47</td>\n",
       "    </tr>\n",
       "  </tbody>\n",
       "</table>\n",
       "</div>"
      ],
      "text/plain": [
       "col_0      0   1   2   3\n",
       "clusters                \n",
       "0         82   0   2   1\n",
       "1          1  56   6   7\n",
       "2          0   1  94   0\n",
       "3          6   0   3  47"
      ]
     },
     "execution_count": 25,
     "metadata": {},
     "output_type": "execute_result"
    }
   ],
   "source": [
    "cross_validate = pd.crosstab(y_validate, lreg.predict(x_validate))\n",
    "cross_validate"
   ]
  },
  {
   "cell_type": "code",
   "execution_count": 26,
   "metadata": {},
   "outputs": [
    {
     "data": {
      "text/html": [
       "<div>\n",
       "<style scoped>\n",
       "    .dataframe tbody tr th:only-of-type {\n",
       "        vertical-align: middle;\n",
       "    }\n",
       "\n",
       "    .dataframe tbody tr th {\n",
       "        vertical-align: top;\n",
       "    }\n",
       "\n",
       "    .dataframe thead th {\n",
       "        text-align: right;\n",
       "    }\n",
       "</style>\n",
       "<table border=\"1\" class=\"dataframe\">\n",
       "  <thead>\n",
       "    <tr style=\"text-align: right;\">\n",
       "      <th>col_0</th>\n",
       "      <th>0</th>\n",
       "      <th>1</th>\n",
       "      <th>2</th>\n",
       "      <th>3</th>\n",
       "    </tr>\n",
       "    <tr>\n",
       "      <th>clusters</th>\n",
       "      <th></th>\n",
       "      <th></th>\n",
       "      <th></th>\n",
       "      <th></th>\n",
       "    </tr>\n",
       "  </thead>\n",
       "  <tbody>\n",
       "    <tr>\n",
       "      <td>0</td>\n",
       "      <td>0.964706</td>\n",
       "      <td>0.000000</td>\n",
       "      <td>0.021053</td>\n",
       "      <td>0.017857</td>\n",
       "    </tr>\n",
       "    <tr>\n",
       "      <td>1</td>\n",
       "      <td>0.011765</td>\n",
       "      <td>0.800000</td>\n",
       "      <td>0.063158</td>\n",
       "      <td>0.125000</td>\n",
       "    </tr>\n",
       "    <tr>\n",
       "      <td>2</td>\n",
       "      <td>0.000000</td>\n",
       "      <td>0.014286</td>\n",
       "      <td>0.989474</td>\n",
       "      <td>0.000000</td>\n",
       "    </tr>\n",
       "    <tr>\n",
       "      <td>3</td>\n",
       "      <td>0.070588</td>\n",
       "      <td>0.000000</td>\n",
       "      <td>0.031579</td>\n",
       "      <td>0.839286</td>\n",
       "    </tr>\n",
       "  </tbody>\n",
       "</table>\n",
       "</div>"
      ],
      "text/plain": [
       "col_0            0         1         2         3\n",
       "clusters                                        \n",
       "0         0.964706  0.000000  0.021053  0.017857\n",
       "1         0.011765  0.800000  0.063158  0.125000\n",
       "2         0.000000  0.014286  0.989474  0.000000\n",
       "3         0.070588  0.000000  0.031579  0.839286"
      ]
     },
     "execution_count": 26,
     "metadata": {},
     "output_type": "execute_result"
    }
   ],
   "source": [
    "cross_validate / np.sum(cross_validate, axis=1)"
   ]
  },
  {
   "cell_type": "code",
   "execution_count": 27,
   "metadata": {},
   "outputs": [
    {
     "name": "stdout",
     "output_type": "stream",
     "text": [
      "Total error 0.08824\n"
     ]
    },
    {
     "data": {
      "text/html": [
       "<div>\n",
       "<style scoped>\n",
       "    .dataframe tbody tr th:only-of-type {\n",
       "        vertical-align: middle;\n",
       "    }\n",
       "\n",
       "    .dataframe tbody tr th {\n",
       "        vertical-align: top;\n",
       "    }\n",
       "\n",
       "    .dataframe thead th {\n",
       "        text-align: right;\n",
       "    }\n",
       "</style>\n",
       "<table border=\"1\" class=\"dataframe\">\n",
       "  <thead>\n",
       "    <tr style=\"text-align: right;\">\n",
       "      <th></th>\n",
       "      <th>Estimation of cluster probability</th>\n",
       "      <th>Estimation of error</th>\n",
       "    </tr>\n",
       "  </thead>\n",
       "  <tbody>\n",
       "    <tr>\n",
       "      <td>0</td>\n",
       "      <td>0.267974</td>\n",
       "      <td>0.009804</td>\n",
       "    </tr>\n",
       "    <tr>\n",
       "      <td>1</td>\n",
       "      <td>0.183007</td>\n",
       "      <td>0.045752</td>\n",
       "    </tr>\n",
       "    <tr>\n",
       "      <td>2</td>\n",
       "      <td>0.307190</td>\n",
       "      <td>0.003268</td>\n",
       "    </tr>\n",
       "    <tr>\n",
       "      <td>3</td>\n",
       "      <td>0.153595</td>\n",
       "      <td>0.029412</td>\n",
       "    </tr>\n",
       "  </tbody>\n",
       "</table>\n",
       "</div>"
      ],
      "text/plain": [
       "   Estimation of cluster probability  Estimation of error\n",
       "0                           0.267974             0.009804\n",
       "1                           0.183007             0.045752\n",
       "2                           0.307190             0.003268\n",
       "3                           0.153595             0.029412"
      ]
     },
     "execution_count": 27,
     "metadata": {},
     "output_type": "execute_result"
    }
   ],
   "source": [
    "cross_validate = pd.crosstab(y_validate, lreg.predict(x_validate), normalize=True)\n",
    "\n",
    "print('Total error %.5f' % np.sum((cross_validate - np.diag(np.diag(cross_validate))).to_numpy()))\n",
    "\n",
    "pd.DataFrame(np.array([\n",
    "    np.diag(cross_validate),\n",
    "    np.sum(cross_validate - np.diag(np.diag(cross_validate)), axis=1)\n",
    "]).T, columns=['Estimation of cluster probability', 'Estimation of error'])"
   ]
  },
  {
   "cell_type": "code",
   "execution_count": 28,
   "metadata": {},
   "outputs": [
    {
     "data": {
      "text/html": [
       "<div>\n",
       "<style scoped>\n",
       "    .dataframe tbody tr th:only-of-type {\n",
       "        vertical-align: middle;\n",
       "    }\n",
       "\n",
       "    .dataframe tbody tr th {\n",
       "        vertical-align: top;\n",
       "    }\n",
       "\n",
       "    .dataframe thead th {\n",
       "        text-align: right;\n",
       "    }\n",
       "</style>\n",
       "<table border=\"1\" class=\"dataframe\">\n",
       "  <thead>\n",
       "    <tr style=\"text-align: right;\">\n",
       "      <th></th>\n",
       "      <th>0</th>\n",
       "      <th>1</th>\n",
       "      <th>2</th>\n",
       "      <th>3</th>\n",
       "    </tr>\n",
       "  </thead>\n",
       "  <tbody>\n",
       "    <tr>\n",
       "      <td>0</td>\n",
       "      <td>4.748992</td>\n",
       "      <td>-2.023946</td>\n",
       "      <td>-6.398333</td>\n",
       "      <td>2.791680</td>\n",
       "    </tr>\n",
       "    <tr>\n",
       "      <td>1</td>\n",
       "      <td>-1.399270</td>\n",
       "      <td>-6.494163</td>\n",
       "      <td>2.263469</td>\n",
       "      <td>5.796475</td>\n",
       "    </tr>\n",
       "    <tr>\n",
       "      <td>2</td>\n",
       "      <td>4.265233</td>\n",
       "      <td>-3.784930</td>\n",
       "      <td>3.941197</td>\n",
       "      <td>-3.942140</td>\n",
       "    </tr>\n",
       "    <tr>\n",
       "      <td>3</td>\n",
       "      <td>-6.619891</td>\n",
       "      <td>3.965222</td>\n",
       "      <td>0.263331</td>\n",
       "      <td>2.381723</td>\n",
       "    </tr>\n",
       "  </tbody>\n",
       "</table>\n",
       "</div>"
      ],
      "text/plain": [
       "          0         1         2         3\n",
       "0  4.748992 -2.023946 -6.398333  2.791680\n",
       "1 -1.399270 -6.494163  2.263469  5.796475\n",
       "2  4.265233 -3.784930  3.941197 -3.942140\n",
       "3 -6.619891  3.965222  0.263331  2.381723"
      ]
     },
     "execution_count": 28,
     "metadata": {},
     "output_type": "execute_result"
    }
   ],
   "source": [
    "pd.DataFrame(lreg.coef_).T"
   ]
  }
 ],
 "metadata": {
  "kernelspec": {
   "display_name": "Python 3",
   "language": "python",
   "name": "python3"
  },
  "language_info": {
   "codemirror_mode": {
    "name": "ipython",
    "version": 3
   },
   "file_extension": ".py",
   "mimetype": "text/x-python",
   "name": "python",
   "nbconvert_exporter": "python",
   "pygments_lexer": "ipython3",
   "version": "3.7.3"
  },
  "pycharm": {
   "stem_cell": {
    "cell_type": "raw",
    "metadata": {
     "collapsed": false
    },
    "source": []
   }
  }
 },
 "nbformat": 4,
 "nbformat_minor": 2
}
